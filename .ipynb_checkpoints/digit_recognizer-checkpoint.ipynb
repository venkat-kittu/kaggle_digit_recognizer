{
 "cells": [
  {
   "cell_type": "code",
   "execution_count": 1,
   "metadata": {},
   "outputs": [],
   "source": [
    "#import libraries\n",
    "import tensorflow as tf\n",
    "import pandas as pd\n",
    "import numpy as np"
   ]
  },
  {
   "cell_type": "code",
   "execution_count": 2,
   "metadata": {},
   "outputs": [],
   "source": [
    "#Read the training dataset\n",
    "data = pd.read_csv('train.csv')"
   ]
  },
  {
   "cell_type": "code",
   "execution_count": 3,
   "metadata": {},
   "outputs": [
    {
     "data": {
      "text/html": [
       "<div>\n",
       "<style scoped>\n",
       "    .dataframe tbody tr th:only-of-type {\n",
       "        vertical-align: middle;\n",
       "    }\n",
       "\n",
       "    .dataframe tbody tr th {\n",
       "        vertical-align: top;\n",
       "    }\n",
       "\n",
       "    .dataframe thead th {\n",
       "        text-align: right;\n",
       "    }\n",
       "</style>\n",
       "<table border=\"1\" class=\"dataframe\">\n",
       "  <thead>\n",
       "    <tr style=\"text-align: right;\">\n",
       "      <th></th>\n",
       "      <th>label</th>\n",
       "      <th>pixel0</th>\n",
       "      <th>pixel1</th>\n",
       "      <th>pixel2</th>\n",
       "      <th>pixel3</th>\n",
       "      <th>pixel4</th>\n",
       "      <th>pixel5</th>\n",
       "      <th>pixel6</th>\n",
       "      <th>pixel7</th>\n",
       "      <th>pixel8</th>\n",
       "      <th>...</th>\n",
       "      <th>pixel774</th>\n",
       "      <th>pixel775</th>\n",
       "      <th>pixel776</th>\n",
       "      <th>pixel777</th>\n",
       "      <th>pixel778</th>\n",
       "      <th>pixel779</th>\n",
       "      <th>pixel780</th>\n",
       "      <th>pixel781</th>\n",
       "      <th>pixel782</th>\n",
       "      <th>pixel783</th>\n",
       "    </tr>\n",
       "  </thead>\n",
       "  <tbody>\n",
       "    <tr>\n",
       "      <th>0</th>\n",
       "      <td>1</td>\n",
       "      <td>0</td>\n",
       "      <td>0</td>\n",
       "      <td>0</td>\n",
       "      <td>0</td>\n",
       "      <td>0</td>\n",
       "      <td>0</td>\n",
       "      <td>0</td>\n",
       "      <td>0</td>\n",
       "      <td>0</td>\n",
       "      <td>...</td>\n",
       "      <td>0</td>\n",
       "      <td>0</td>\n",
       "      <td>0</td>\n",
       "      <td>0</td>\n",
       "      <td>0</td>\n",
       "      <td>0</td>\n",
       "      <td>0</td>\n",
       "      <td>0</td>\n",
       "      <td>0</td>\n",
       "      <td>0</td>\n",
       "    </tr>\n",
       "    <tr>\n",
       "      <th>1</th>\n",
       "      <td>0</td>\n",
       "      <td>0</td>\n",
       "      <td>0</td>\n",
       "      <td>0</td>\n",
       "      <td>0</td>\n",
       "      <td>0</td>\n",
       "      <td>0</td>\n",
       "      <td>0</td>\n",
       "      <td>0</td>\n",
       "      <td>0</td>\n",
       "      <td>...</td>\n",
       "      <td>0</td>\n",
       "      <td>0</td>\n",
       "      <td>0</td>\n",
       "      <td>0</td>\n",
       "      <td>0</td>\n",
       "      <td>0</td>\n",
       "      <td>0</td>\n",
       "      <td>0</td>\n",
       "      <td>0</td>\n",
       "      <td>0</td>\n",
       "    </tr>\n",
       "    <tr>\n",
       "      <th>2</th>\n",
       "      <td>1</td>\n",
       "      <td>0</td>\n",
       "      <td>0</td>\n",
       "      <td>0</td>\n",
       "      <td>0</td>\n",
       "      <td>0</td>\n",
       "      <td>0</td>\n",
       "      <td>0</td>\n",
       "      <td>0</td>\n",
       "      <td>0</td>\n",
       "      <td>...</td>\n",
       "      <td>0</td>\n",
       "      <td>0</td>\n",
       "      <td>0</td>\n",
       "      <td>0</td>\n",
       "      <td>0</td>\n",
       "      <td>0</td>\n",
       "      <td>0</td>\n",
       "      <td>0</td>\n",
       "      <td>0</td>\n",
       "      <td>0</td>\n",
       "    </tr>\n",
       "    <tr>\n",
       "      <th>3</th>\n",
       "      <td>4</td>\n",
       "      <td>0</td>\n",
       "      <td>0</td>\n",
       "      <td>0</td>\n",
       "      <td>0</td>\n",
       "      <td>0</td>\n",
       "      <td>0</td>\n",
       "      <td>0</td>\n",
       "      <td>0</td>\n",
       "      <td>0</td>\n",
       "      <td>...</td>\n",
       "      <td>0</td>\n",
       "      <td>0</td>\n",
       "      <td>0</td>\n",
       "      <td>0</td>\n",
       "      <td>0</td>\n",
       "      <td>0</td>\n",
       "      <td>0</td>\n",
       "      <td>0</td>\n",
       "      <td>0</td>\n",
       "      <td>0</td>\n",
       "    </tr>\n",
       "    <tr>\n",
       "      <th>4</th>\n",
       "      <td>0</td>\n",
       "      <td>0</td>\n",
       "      <td>0</td>\n",
       "      <td>0</td>\n",
       "      <td>0</td>\n",
       "      <td>0</td>\n",
       "      <td>0</td>\n",
       "      <td>0</td>\n",
       "      <td>0</td>\n",
       "      <td>0</td>\n",
       "      <td>...</td>\n",
       "      <td>0</td>\n",
       "      <td>0</td>\n",
       "      <td>0</td>\n",
       "      <td>0</td>\n",
       "      <td>0</td>\n",
       "      <td>0</td>\n",
       "      <td>0</td>\n",
       "      <td>0</td>\n",
       "      <td>0</td>\n",
       "      <td>0</td>\n",
       "    </tr>\n",
       "  </tbody>\n",
       "</table>\n",
       "<p>5 rows × 785 columns</p>\n",
       "</div>"
      ],
      "text/plain": [
       "   label  pixel0  pixel1  pixel2  pixel3  pixel4  pixel5  pixel6  pixel7  \\\n",
       "0      1       0       0       0       0       0       0       0       0   \n",
       "1      0       0       0       0       0       0       0       0       0   \n",
       "2      1       0       0       0       0       0       0       0       0   \n",
       "3      4       0       0       0       0       0       0       0       0   \n",
       "4      0       0       0       0       0       0       0       0       0   \n",
       "\n",
       "   pixel8  ...  pixel774  pixel775  pixel776  pixel777  pixel778  pixel779  \\\n",
       "0       0  ...         0         0         0         0         0         0   \n",
       "1       0  ...         0         0         0         0         0         0   \n",
       "2       0  ...         0         0         0         0         0         0   \n",
       "3       0  ...         0         0         0         0         0         0   \n",
       "4       0  ...         0         0         0         0         0         0   \n",
       "\n",
       "   pixel780  pixel781  pixel782  pixel783  \n",
       "0         0         0         0         0  \n",
       "1         0         0         0         0  \n",
       "2         0         0         0         0  \n",
       "3         0         0         0         0  \n",
       "4         0         0         0         0  \n",
       "\n",
       "[5 rows x 785 columns]"
      ]
     },
     "execution_count": 3,
     "metadata": {},
     "output_type": "execute_result"
    }
   ],
   "source": [
    "#checking the data values and format\n",
    "data.head()"
   ]
  },
  {
   "cell_type": "code",
   "execution_count": 4,
   "metadata": {},
   "outputs": [],
   "source": [
    "#seperating data into rows and columns\n",
    "labels = data['label']\n",
    "features = data.drop(columns=['label'])"
   ]
  },
  {
   "cell_type": "code",
   "execution_count": 5,
   "metadata": {},
   "outputs": [
    {
     "data": {
      "text/plain": [
       "(42000, 1)"
      ]
     },
     "execution_count": 5,
     "metadata": {},
     "output_type": "execute_result"
    }
   ],
   "source": [
    "#Converting pandas frames to numpy arrays\n",
    "labels = np.array(labels).reshape(labels.shape[0],1)\n",
    "labels.shape"
   ]
  },
  {
   "cell_type": "code",
   "execution_count": 6,
   "metadata": {},
   "outputs": [],
   "source": [
    "#convert into onhot_encoding vector\n",
    "l = tf.keras.utils.to_categorical(labels)"
   ]
  },
  {
   "cell_type": "code",
   "execution_count": 7,
   "metadata": {},
   "outputs": [
    {
     "name": "stdout",
     "output_type": "stream",
     "text": [
      "(42000, 784)\n"
     ]
    },
    {
     "data": {
      "text/plain": [
       "(42000, 10)"
      ]
     },
     "execution_count": 7,
     "metadata": {},
     "output_type": "execute_result"
    }
   ],
   "source": [
    "print(features.shape)\n",
    "l.shape"
   ]
  },
  {
   "cell_type": "code",
   "execution_count": 8,
   "metadata": {},
   "outputs": [],
   "source": [
    "#splitting into training and testing data\n",
    "from sklearn.model_selection import train_test_split\n",
    "x_train , x_test,y_train,y_test = train_test_split(features,l)"
   ]
  },
  {
   "cell_type": "code",
   "execution_count": 75,
   "metadata": {},
   "outputs": [],
   "source": [
    "#Creating Neural network architecture\n",
    "model = tf.keras.models.Sequential()\n",
    "model.add(tf.keras.layers.Dense(100,activation='sigmoid',input_shape=(784,)))\n",
    "model.add(tf.keras.layers.Dense(100,activation='sigmoid'))\n",
    "model.add(tf.keras.layers.Dense(10,activation='softmax'))"
   ]
  },
  {
   "cell_type": "code",
   "execution_count": 76,
   "metadata": {},
   "outputs": [
    {
     "name": "stdout",
     "output_type": "stream",
     "text": [
      "_________________________________________________________________\n",
      "Layer (type)                 Output Shape              Param #   \n",
      "=================================================================\n",
      "dense_6 (Dense)              (None, 100)               78500     \n",
      "_________________________________________________________________\n",
      "dense_7 (Dense)              (None, 100)               10100     \n",
      "_________________________________________________________________\n",
      "dense_8 (Dense)              (None, 10)                1010      \n",
      "=================================================================\n",
      "Total params: 89,610\n",
      "Trainable params: 89,610\n",
      "Non-trainable params: 0\n",
      "_________________________________________________________________\n"
     ]
    }
   ],
   "source": [
    "#checking number of paramerters\n",
    "model.summary()"
   ]
  },
  {
   "cell_type": "code",
   "execution_count": 77,
   "metadata": {},
   "outputs": [],
   "source": [
    "#initializing optimizer,Early stopping and compiling model\n",
    "optimizer = tf.keras.optimizers.SGD(lr=0.01, decay=1e-6, momentum=0.9, nesterov=True)\n",
    "model.compile(optimizer=optimizer,metrics=['accuracy'],loss='mean_squared_error')\n",
    "callbacks = [tf.keras.callbacks.EarlyStopping(monitor='val_loss',patience=5),tf.keras.callbacks.ModelCheckpoint(filepath='model.h5',monitor='val_loss',save_best_only=True)]"
   ]
  },
  {
   "cell_type": "code",
   "execution_count": 78,
   "metadata": {},
   "outputs": [
    {
     "name": "stdout",
     "output_type": "stream",
     "text": [
      "Train on 31500 samples, validate on 10500 samples\n",
      "Epoch 1/50\n",
      "31500/31500 [==============================] - 5s 154us/step - loss: 0.0874 - acc: 0.2711 - val_loss: 0.0824 - val_acc: 0.3688\n",
      "Epoch 2/50\n",
      "31500/31500 [==============================] - 4s 123us/step - loss: 0.0771 - acc: 0.4397 - val_loss: 0.0715 - val_acc: 0.5242\n",
      "Epoch 3/50\n",
      "31500/31500 [==============================] - 4s 123us/step - loss: 0.0654 - acc: 0.6319 - val_loss: 0.0590 - val_acc: 0.6785\n",
      "Epoch 4/50\n",
      "31500/31500 [==============================] - 4s 128us/step - loss: 0.0524 - acc: 0.7356 - val_loss: 0.0458 - val_acc: 0.7847\n",
      "Epoch 5/50\n",
      "31500/31500 [==============================] - 4s 124us/step - loss: 0.0403 - acc: 0.8177 - val_loss: 0.0353 - val_acc: 0.8414\n",
      "Epoch 6/50\n",
      "31500/31500 [==============================] - 4s 125us/step - loss: 0.0313 - acc: 0.8609 - val_loss: 0.0281 - val_acc: 0.8691\n",
      "Epoch 7/50\n",
      "31500/31500 [==============================] - 4s 125us/step - loss: 0.0254 - acc: 0.8782 - val_loss: 0.0237 - val_acc: 0.8812\n",
      "Epoch 8/50\n",
      "31500/31500 [==============================] - 4s 120us/step - loss: 0.0217 - acc: 0.8885 - val_loss: 0.0208 - val_acc: 0.8896\n",
      "Epoch 9/50\n",
      "31500/31500 [==============================] - 4s 121us/step - loss: 0.0193 - acc: 0.8966 - val_loss: 0.0188 - val_acc: 0.8956\n",
      "Epoch 10/50\n",
      "31500/31500 [==============================] - 4s 124us/step - loss: 0.0177 - acc: 0.9032 - val_loss: 0.0178 - val_acc: 0.8988\n",
      "Epoch 11/50\n",
      "31500/31500 [==============================] - 4s 123us/step - loss: 0.0164 - acc: 0.9089 - val_loss: 0.0163 - val_acc: 0.9033\n",
      "Epoch 12/50\n",
      "31500/31500 [==============================] - 4s 123us/step - loss: 0.0153 - acc: 0.9124 - val_loss: 0.0156 - val_acc: 0.9068\n",
      "Epoch 13/50\n",
      "31500/31500 [==============================] - 4s 122us/step - loss: 0.0147 - acc: 0.9158 - val_loss: 0.0150 - val_acc: 0.9092\n",
      "Epoch 14/50\n",
      "31500/31500 [==============================] - 4s 128us/step - loss: 0.0140 - acc: 0.9191 - val_loss: 0.0146 - val_acc: 0.9129\n",
      "Epoch 15/50\n",
      "31500/31500 [==============================] - 4s 124us/step - loss: 0.0136 - acc: 0.9205 - val_loss: 0.0139 - val_acc: 0.9156\n",
      "Epoch 16/50\n",
      "31500/31500 [==============================] - 4s 121us/step - loss: 0.0131 - acc: 0.9240 - val_loss: 0.0138 - val_acc: 0.9157\n",
      "Epoch 17/50\n",
      "31500/31500 [==============================] - 4s 123us/step - loss: 0.0127 - acc: 0.9256 - val_loss: 0.0133 - val_acc: 0.9202\n",
      "Epoch 18/50\n",
      "31500/31500 [==============================] - 4s 125us/step - loss: 0.0123 - acc: 0.9282 - val_loss: 0.0132 - val_acc: 0.9192\n",
      "Epoch 19/50\n",
      "31500/31500 [==============================] - 4s 124us/step - loss: 0.0119 - acc: 0.9302 - val_loss: 0.0125 - val_acc: 0.9231\n",
      "Epoch 20/50\n",
      "31500/31500 [==============================] - 4s 119us/step - loss: 0.0116 - acc: 0.9320 - val_loss: 0.0128 - val_acc: 0.9213\n",
      "Epoch 21/50\n",
      "31500/31500 [==============================] - 4s 122us/step - loss: 0.0116 - acc: 0.9323 - val_loss: 0.0124 - val_acc: 0.9240\n",
      "Epoch 22/50\n",
      "31500/31500 [==============================] - 4s 121us/step - loss: 0.0113 - acc: 0.9327 - val_loss: 0.0121 - val_acc: 0.9254\n",
      "Epoch 23/50\n",
      "31500/31500 [==============================] - 4s 129us/step - loss: 0.0110 - acc: 0.9352 - val_loss: 0.0116 - val_acc: 0.9269\n",
      "Epoch 24/50\n",
      "31500/31500 [==============================] - 4s 121us/step - loss: 0.0106 - acc: 0.9375 - val_loss: 0.0115 - val_acc: 0.9286\n",
      "Epoch 25/50\n",
      "31500/31500 [==============================] - 4s 119us/step - loss: 0.0106 - acc: 0.9365 - val_loss: 0.0116 - val_acc: 0.9288\n",
      "Epoch 26/50\n",
      "31500/31500 [==============================] - 4s 122us/step - loss: 0.0105 - acc: 0.9381 - val_loss: 0.0115 - val_acc: 0.9298\n",
      "Epoch 27/50\n",
      "31500/31500 [==============================] - 4s 124us/step - loss: 0.0104 - acc: 0.9391 - val_loss: 0.0114 - val_acc: 0.9276\n",
      "Epoch 28/50\n",
      "31500/31500 [==============================] - 4s 120us/step - loss: 0.0102 - acc: 0.9403 - val_loss: 0.0112 - val_acc: 0.9312\n",
      "Epoch 29/50\n",
      "31500/31500 [==============================] - 4s 118us/step - loss: 0.0098 - acc: 0.9425 - val_loss: 0.0110 - val_acc: 0.9316\n",
      "Epoch 30/50\n",
      "31500/31500 [==============================] - 4s 120us/step - loss: 0.0097 - acc: 0.9423 - val_loss: 0.0109 - val_acc: 0.9302\n",
      "Epoch 31/50\n",
      "31500/31500 [==============================] - 4s 122us/step - loss: 0.0095 - acc: 0.9434 - val_loss: 0.0106 - val_acc: 0.9340\n",
      "Epoch 32/50\n",
      "31500/31500 [==============================] - 4s 120us/step - loss: 0.0093 - acc: 0.9446 - val_loss: 0.0105 - val_acc: 0.9334\n",
      "Epoch 33/50\n",
      "31500/31500 [==============================] - 4s 118us/step - loss: 0.0094 - acc: 0.9452 - val_loss: 0.0108 - val_acc: 0.9320\n",
      "Epoch 34/50\n",
      "31500/31500 [==============================] - 4s 116us/step - loss: 0.0092 - acc: 0.9457 - val_loss: 0.0105 - val_acc: 0.9350\n",
      "Epoch 35/50\n",
      "31500/31500 [==============================] - 4s 121us/step - loss: 0.0090 - acc: 0.9471 - val_loss: 0.0103 - val_acc: 0.9352\n",
      "Epoch 36/50\n",
      "31500/31500 [==============================] - 4s 117us/step - loss: 0.0089 - acc: 0.9480 - val_loss: 0.0104 - val_acc: 0.9360\n",
      "Epoch 37/50\n",
      "31500/31500 [==============================] - 4s 114us/step - loss: 0.0088 - acc: 0.9486 - val_loss: 0.0101 - val_acc: 0.9368\n",
      "Epoch 38/50\n",
      "31500/31500 [==============================] - 4s 116us/step - loss: 0.0086 - acc: 0.9494 - val_loss: 0.0099 - val_acc: 0.9385\n",
      "Epoch 39/50\n",
      "31500/31500 [==============================] - 4s 117us/step - loss: 0.0086 - acc: 0.9497 - val_loss: 0.0097 - val_acc: 0.9400\n",
      "Epoch 40/50\n",
      "31500/31500 [==============================] - 4s 118us/step - loss: 0.0084 - acc: 0.9509 - val_loss: 0.0098 - val_acc: 0.9378\n",
      "Epoch 41/50\n",
      "31500/31500 [==============================] - 4s 114us/step - loss: 0.0085 - acc: 0.9497 - val_loss: 0.0099 - val_acc: 0.9374\n",
      "Epoch 42/50\n",
      "31500/31500 [==============================] - 4s 117us/step - loss: 0.0084 - acc: 0.9508 - val_loss: 0.0097 - val_acc: 0.9381\n",
      "Epoch 43/50\n",
      "31500/31500 [==============================] - 4s 116us/step - loss: 0.0082 - acc: 0.9512 - val_loss: 0.0097 - val_acc: 0.9361\n",
      "Epoch 44/50\n",
      "31500/31500 [==============================] - 4s 119us/step - loss: 0.0082 - acc: 0.9511 - val_loss: 0.0095 - val_acc: 0.9405\n",
      "Epoch 45/50\n",
      "31500/31500 [==============================] - 4s 124us/step - loss: 0.0078 - acc: 0.9544 - val_loss: 0.0094 - val_acc: 0.9405\n",
      "Epoch 46/50\n",
      "31500/31500 [==============================] - 4s 117us/step - loss: 0.0080 - acc: 0.9532 - val_loss: 0.0095 - val_acc: 0.9399\n",
      "Epoch 47/50\n",
      "31500/31500 [==============================] - 4s 113us/step - loss: 0.0080 - acc: 0.9530 - val_loss: 0.0095 - val_acc: 0.9401\n",
      "Epoch 48/50\n",
      "31500/31500 [==============================] - 4s 115us/step - loss: 0.0078 - acc: 0.9537 - val_loss: 0.0093 - val_acc: 0.9414\n",
      "Epoch 49/50\n",
      "31500/31500 [==============================] - 4s 123us/step - loss: 0.0075 - acc: 0.9558 - val_loss: 0.0090 - val_acc: 0.9430\n",
      "Epoch 50/50\n",
      "31500/31500 [==============================] - 4s 119us/step - loss: 0.0074 - acc: 0.9558 - val_loss: 0.0090 - val_acc: 0.9432\n"
     ]
    },
    {
     "data": {
      "text/plain": [
       "<tensorflow.python.keras.callbacks.History at 0x2393e847438>"
      ]
     },
     "execution_count": 78,
     "metadata": {},
     "output_type": "execute_result"
    }
   ],
   "source": [
    "#training the Neural nets\n",
    "model.fit(x=x_train,y=y_train,epochs=50,validation_data=(x_test,y_test),callbacks=callbacks)"
   ]
  },
  {
   "cell_type": "code",
   "execution_count": 29,
   "metadata": {},
   "outputs": [],
   "source": [
    "#testing\n",
    "testing = np.array(x_test)\n",
    "print(\"predicted label \",np.argmax(model.predict(testing[0].reshape(1,len(testing[23])))))\n",
    "print(\"Actual label \",np.argmax(y_test[0]))"
   ]
  },
  {
   "cell_type": "code",
   "execution_count": 36,
   "metadata": {},
   "outputs": [],
   "source": [
    "#performing inference on unseen test data\n",
    "test_data = pd.read_csv('test.csv')\n",
    "test_data = np.array(test_data)\n",
    "results = model.predict(test_data)\n",
    "submission = {'ImageId':[],'Label':[]}"
   ]
  },
  {
   "cell_type": "code",
   "execution_count": 38,
   "metadata": {},
   "outputs": [],
   "source": [
    "for i in range(len(results)):\n",
    "    la = np.argmax(results[i])\n",
    "    submission['ImageId'].append(i+1)\n",
    "    submission['Label'].append(la)"
   ]
  },
  {
   "cell_type": "code",
   "execution_count": 44,
   "metadata": {},
   "outputs": [],
   "source": [
    "#creating submission files\n",
    "submission_df = pd.DataFrame(submission)\n",
    "submission_df.to_csv('Submission.csv',index=False)"
   ]
  }
 ],
 "metadata": {
  "kernelspec": {
   "display_name": "Python 3",
   "language": "python",
   "name": "python3"
  },
  "language_info": {
   "codemirror_mode": {
    "name": "ipython",
    "version": 3
   },
   "file_extension": ".py",
   "mimetype": "text/x-python",
   "name": "python",
   "nbconvert_exporter": "python",
   "pygments_lexer": "ipython3",
   "version": "3.6.7"
  }
 },
 "nbformat": 4,
 "nbformat_minor": 2
}
